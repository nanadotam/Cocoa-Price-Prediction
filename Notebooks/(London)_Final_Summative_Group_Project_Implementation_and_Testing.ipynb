{
  "cells": [
    {
      "cell_type": "markdown",
      "metadata": {
        "id": "nYmw2y7K9Qg8"
      },
      "source": [
        "# (LONDON MARKET) FINAL SUMMATIVE GROUP PROJECT"
      ]
    },
    {
      "cell_type": "code",
      "execution_count": null,
      "metadata": {
        "id": "G-bbfOBY-JyU"
      },
      "outputs": [],
      "source": [
        "## AUTHORS: Nana Kwaku Amoakoh, Kobina Kyereboah-Coleman\n",
        "## 5th August 2024\n",
        "## TODO: To develop an AI model for the prediction of product(cocoa) price for the London Market from the ICCO"
      ]
    },
    {
      "cell_type": "markdown",
      "metadata": {
        "id": "6A2CypeW-cZC"
      },
      "source": [
        "## Downloading Necessary Modules"
      ]
    },
    {
      "cell_type": "code",
      "execution_count": null,
      "metadata": {
        "colab": {
          "background_save": true,
          "base_uri": "https://localhost:8080/"
        },
        "id": "Qf5Du3Y73mRV",
        "outputId": "353c9d98-4617-4c25-f1bb-c8c08cb7a928"
      },
      "outputs": [
        {
          "name": "stdout",
          "output_type": "stream",
          "text": [
            "Requirement already satisfied: scikit-learn in /usr/local/lib/python3.10/dist-packages (1.0.2)\n",
            "Requirement already satisfied: numpy>=1.14.6 in /usr/local/lib/python3.10/dist-packages (from scikit-learn) (1.26.4)\n",
            "Requirement already satisfied: scipy>=1.1.0 in /usr/local/lib/python3.10/dist-packages (from scikit-learn) (1.13.1)\n",
            "Requirement already satisfied: joblib>=0.11 in /usr/local/lib/python3.10/dist-packages (from scikit-learn) (1.4.2)\n",
            "Requirement already satisfied: threadpoolctl>=2.0.0 in /usr/local/lib/python3.10/dist-packages (from scikit-learn) (3.5.0)\n",
            "Requirement already satisfied: scikeras in /usr/local/lib/python3.10/dist-packages (0.12.0)\n",
            "Requirement already satisfied: packaging>=0.21 in /usr/local/lib/python3.10/dist-packages (from scikeras) (24.1)\n",
            "Requirement already satisfied: scikit-learn>=1.0.0 in /usr/local/lib/python3.10/dist-packages (from scikeras) (1.0.2)\n",
            "Requirement already satisfied: numpy>=1.14.6 in /usr/local/lib/python3.10/dist-packages (from scikit-learn>=1.0.0->scikeras) (1.26.4)\n",
            "Requirement already satisfied: scipy>=1.1.0 in /usr/local/lib/python3.10/dist-packages (from scikit-learn>=1.0.0->scikeras) (1.13.1)\n",
            "Requirement already satisfied: joblib>=0.11 in /usr/local/lib/python3.10/dist-packages (from scikit-learn>=1.0.0->scikeras) (1.4.2)\n",
            "Requirement already satisfied: threadpoolctl>=2.0.0 in /usr/local/lib/python3.10/dist-packages (from scikit-learn>=1.0.0->scikeras) (3.5.0)\n",
            "Found existing installation: scikit-learn 1.0.2\n",
            "Uninstalling scikit-learn-1.0.2:\n",
            "  Successfully uninstalled scikit-learn-1.0.2\n",
            "Collecting scikit-learn==1.0.2\n",
            "  Using cached scikit_learn-1.0.2-cp310-cp310-manylinux_2_17_x86_64.manylinux2014_x86_64.whl.metadata (10 kB)\n",
            "Requirement already satisfied: scikeras in /usr/local/lib/python3.10/dist-packages (0.12.0)\n",
            "Requirement already satisfied: numpy>=1.14.6 in /usr/local/lib/python3.10/dist-packages (from scikit-learn==1.0.2) (1.26.4)\n",
            "Requirement already satisfied: scipy>=1.1.0 in /usr/local/lib/python3.10/dist-packages (from scikit-learn==1.0.2) (1.13.1)\n",
            "Requirement already satisfied: joblib>=0.11 in /usr/local/lib/python3.10/dist-packages (from scikit-learn==1.0.2) (1.4.2)\n",
            "Requirement already satisfied: threadpoolctl>=2.0.0 in /usr/local/lib/python3.10/dist-packages (from scikit-learn==1.0.2) (3.5.0)\n",
            "Requirement already satisfied: packaging>=0.21 in /usr/local/lib/python3.10/dist-packages (from scikeras) (24.1)\n",
            "Using cached scikit_learn-1.0.2-cp310-cp310-manylinux_2_17_x86_64.manylinux2014_x86_64.whl (26.5 MB)\n",
            "Installing collected packages: scikit-learn\n",
            "\u001b[31mERROR: pip's dependency resolver does not currently take into account all the packages that are installed. This behaviour is the source of the following dependency conflicts.\n",
            "bigframes 1.11.1 requires scikit-learn>=1.2.2, but you have scikit-learn 1.0.2 which is incompatible.\u001b[0m\u001b[31m\n",
            "\u001b[0mSuccessfully installed scikit-learn-1.0.2\n"
          ]
        },
        {
          "data": {
            "application/vnd.colab-display-data+json": {
              "id": "1e85fee7b2cc49948568fe9779f2b85f",
              "pip_warning": {
                "packages": [
                  "sklearn"
                ]
              }
            }
          },
          "metadata": {},
          "output_type": "display_data"
        }
      ],
      "source": [
        "!pip install scikit-learn\n",
        "!pip install scikeras\n",
        "!pip uninstall -y scikit-learn\n",
        "!pip install scikit-learn==1.0.2 scikeras"
      ]
    },
    {
      "cell_type": "markdown",
      "metadata": {
        "id": "gju8eCy_-mo3"
      },
      "source": [
        "## Importing Relevant Python Libraries"
      ]
    },
    {
      "cell_type": "code",
      "execution_count": 12,
      "metadata": {
        "id": "cNsxMRoP21GB"
      },
      "outputs": [],
      "source": [
        "# Import necessary libraries\n",
        "import pandas as pd\n",
        "import numpy as np\n",
        "from sklearn.model_selection import train_test_split, cross_val_score, GridSearchCV\n",
        "from sklearn.linear_model import LinearRegression\n",
        "from sklearn.metrics import mean_squared_error, r2_score, mean_absolute_error\n",
        "from sklearn.preprocessing import StandardScaler\n",
        "from statsmodels.tsa.arima.model import ARIMA\n",
        "# from scikeras.wrappers import KerasRegressor\n",
        "from tensorflow.keras.models import Sequential\n",
        "from tensorflow.keras.layers import LSTM, Dense\n",
        "import matplotlib.pyplot as plt\n",
        "import seaborn as sns\n",
        "import pickle\n",
        "from tensorflow.keras.models import load_model\n",
        "from google.colab import drive\n",
        "import warnings\n",
        "warnings.filterwarnings('ignore')"
      ]
    },
    {
      "cell_type": "markdown",
      "metadata": {
        "id": "tnRwzjtU-z6a"
      },
      "source": [
        "## Drive Mount"
      ]
    },
    {
      "cell_type": "code",
      "execution_count": null,
      "metadata": {
        "id": "SANoEAqx-x_8"
      },
      "outputs": [],
      "source": [
        "# Mount Google Drive\n",
        "drive.mount('/content/drive')"
      ]
    },
    {
      "cell_type": "markdown",
      "metadata": {
        "id": "q7tnQnnw-7h7"
      },
      "source": [
        "## Save Dataset To Google Drive"
      ]
    },
    {
      "cell_type": "code",
      "execution_count": 13,
      "metadata": {
        "colab": {
          "base_uri": "https://localhost:8080/",
          "height": 0
        },
        "id": "BHGDmOTd-6R9",
        "outputId": "450db455-2cc1-402b-807b-ff30eb6fe77b"
      },
      "outputs": [
        {
          "output_type": "stream",
          "name": "stdout",
          "text": [
            "--2024-08-05 17:49:26--  https://raw.githubusercontent.com/nanadotam/ITAI/main/Final-Project/ICCO_daily_prices.csv\n",
            "Resolving raw.githubusercontent.com (raw.githubusercontent.com)... 185.199.108.133, 185.199.109.133, 185.199.110.133, ...\n",
            "Connecting to raw.githubusercontent.com (raw.githubusercontent.com)|185.199.108.133|:443... connected.\n",
            "HTTP request sent, awaiting response... 200 OK\n",
            "Length: 401764 (392K) [text/plain]\n",
            "Saving to: ‘/content/ICCO_daily_prices.csv’\n",
            "\n",
            "\r          /content/   0%[                    ]       0  --.-KB/s               \r/content/ICCO_daily 100%[===================>] 392.35K  --.-KB/s    in 0.007s  \n",
            "\n",
            "2024-08-05 17:49:26 (55.5 MB/s) - ‘/content/ICCO_daily_prices.csv’ saved [401764/401764]\n",
            "\n"
          ]
        }
      ],
      "source": [
        "# Download the dataset\n",
        "!wget -O /content/ICCO_daily_prices.csv 'https://raw.githubusercontent.com/nanadotam/ITAI/main/Final-Project/ICCO_daily_prices.csv'"
      ]
    },
    {
      "cell_type": "markdown",
      "metadata": {
        "id": "BAgVHmqv_JKi"
      },
      "source": [
        "## Load Dataset"
      ]
    },
    {
      "cell_type": "code",
      "execution_count": null,
      "metadata": {
        "id": "L7fvvnc7_Sdq"
      },
      "outputs": [],
      "source": [
        "# Define the path to your CSV file in Google Drive\n",
        "csv_path = '/content/drive/MyDrive/Colab Notebooks/ICCO Daily Prices.csv'"
      ]
    },
    {
      "cell_type": "code",
      "execution_count": 14,
      "metadata": {
        "id": "LDZ0e0rl_Poq"
      },
      "outputs": [],
      "source": [
        "# Load the dataset\n",
        "# data = pd.read_csv(csv_path)\n",
        "data = pd.read_csv('/content/ICCO_daily_prices.csv')"
      ]
    },
    {
      "cell_type": "markdown",
      "metadata": {
        "id": "NatqzXpY_4S8"
      },
      "source": [
        "## Data Preprocessing"
      ]
    },
    {
      "cell_type": "code",
      "execution_count": 15,
      "metadata": {
        "colab": {
          "base_uri": "https://localhost:8080/",
          "height": 241
        },
        "collapsed": true,
        "id": "oG8mYmyr21GB",
        "outputId": "8297db18-b437-4cd9-a2d7-4341255654b2"
      },
      "outputs": [
        {
          "output_type": "execute_result",
          "data": {
            "text/plain": [
              "         Date London futures (£ sterling/tonne) New York futures (US$/tonne)  \\\n",
              "0      1/8/24                          5,282.67                     6,709.33   \n",
              "1  31/07/2024                          5,584.33                     7,058.67   \n",
              "2  30/07/2024                          5,662.00                     7,141.00   \n",
              "3  29/07/2024                          5,459.33                     6,883.00   \n",
              "4  26/07/2024                          5,611.00                     7,054.33   \n",
              "\n",
              "  ICCO daily price (US$/tonne) ICCO daily price (Euro/tonne)  \n",
              "0                     6,730.95                      6,239.26  \n",
              "1                     7,116.99                      6,580.01  \n",
              "2                     7,205.50                      6,666.17  \n",
              "3                     6,952.53                      6,426.23  \n",
              "4                     7,139.25                      6,575.60  "
            ],
            "text/html": [
              "\n",
              "  <div id=\"df-235a0523-65f3-4358-ad18-73f57f354aa5\" class=\"colab-df-container\">\n",
              "    <div>\n",
              "<style scoped>\n",
              "    .dataframe tbody tr th:only-of-type {\n",
              "        vertical-align: middle;\n",
              "    }\n",
              "\n",
              "    .dataframe tbody tr th {\n",
              "        vertical-align: top;\n",
              "    }\n",
              "\n",
              "    .dataframe thead th {\n",
              "        text-align: right;\n",
              "    }\n",
              "</style>\n",
              "<table border=\"1\" class=\"dataframe\">\n",
              "  <thead>\n",
              "    <tr style=\"text-align: right;\">\n",
              "      <th></th>\n",
              "      <th>Date</th>\n",
              "      <th>London futures (£ sterling/tonne)</th>\n",
              "      <th>New York futures (US$/tonne)</th>\n",
              "      <th>ICCO daily price (US$/tonne)</th>\n",
              "      <th>ICCO daily price (Euro/tonne)</th>\n",
              "    </tr>\n",
              "  </thead>\n",
              "  <tbody>\n",
              "    <tr>\n",
              "      <th>0</th>\n",
              "      <td>1/8/24</td>\n",
              "      <td>5,282.67</td>\n",
              "      <td>6,709.33</td>\n",
              "      <td>6,730.95</td>\n",
              "      <td>6,239.26</td>\n",
              "    </tr>\n",
              "    <tr>\n",
              "      <th>1</th>\n",
              "      <td>31/07/2024</td>\n",
              "      <td>5,584.33</td>\n",
              "      <td>7,058.67</td>\n",
              "      <td>7,116.99</td>\n",
              "      <td>6,580.01</td>\n",
              "    </tr>\n",
              "    <tr>\n",
              "      <th>2</th>\n",
              "      <td>30/07/2024</td>\n",
              "      <td>5,662.00</td>\n",
              "      <td>7,141.00</td>\n",
              "      <td>7,205.50</td>\n",
              "      <td>6,666.17</td>\n",
              "    </tr>\n",
              "    <tr>\n",
              "      <th>3</th>\n",
              "      <td>29/07/2024</td>\n",
              "      <td>5,459.33</td>\n",
              "      <td>6,883.00</td>\n",
              "      <td>6,952.53</td>\n",
              "      <td>6,426.23</td>\n",
              "    </tr>\n",
              "    <tr>\n",
              "      <th>4</th>\n",
              "      <td>26/07/2024</td>\n",
              "      <td>5,611.00</td>\n",
              "      <td>7,054.33</td>\n",
              "      <td>7,139.25</td>\n",
              "      <td>6,575.60</td>\n",
              "    </tr>\n",
              "  </tbody>\n",
              "</table>\n",
              "</div>\n",
              "    <div class=\"colab-df-buttons\">\n",
              "\n",
              "  <div class=\"colab-df-container\">\n",
              "    <button class=\"colab-df-convert\" onclick=\"convertToInteractive('df-235a0523-65f3-4358-ad18-73f57f354aa5')\"\n",
              "            title=\"Convert this dataframe to an interactive table.\"\n",
              "            style=\"display:none;\">\n",
              "\n",
              "  <svg xmlns=\"http://www.w3.org/2000/svg\" height=\"24px\" viewBox=\"0 -960 960 960\">\n",
              "    <path d=\"M120-120v-720h720v720H120Zm60-500h600v-160H180v160Zm220 220h160v-160H400v160Zm0 220h160v-160H400v160ZM180-400h160v-160H180v160Zm440 0h160v-160H620v160ZM180-180h160v-160H180v160Zm440 0h160v-160H620v160Z\"/>\n",
              "  </svg>\n",
              "    </button>\n",
              "\n",
              "  <style>\n",
              "    .colab-df-container {\n",
              "      display:flex;\n",
              "      gap: 12px;\n",
              "    }\n",
              "\n",
              "    .colab-df-convert {\n",
              "      background-color: #E8F0FE;\n",
              "      border: none;\n",
              "      border-radius: 50%;\n",
              "      cursor: pointer;\n",
              "      display: none;\n",
              "      fill: #1967D2;\n",
              "      height: 32px;\n",
              "      padding: 0 0 0 0;\n",
              "      width: 32px;\n",
              "    }\n",
              "\n",
              "    .colab-df-convert:hover {\n",
              "      background-color: #E2EBFA;\n",
              "      box-shadow: 0px 1px 2px rgba(60, 64, 67, 0.3), 0px 1px 3px 1px rgba(60, 64, 67, 0.15);\n",
              "      fill: #174EA6;\n",
              "    }\n",
              "\n",
              "    .colab-df-buttons div {\n",
              "      margin-bottom: 4px;\n",
              "    }\n",
              "\n",
              "    [theme=dark] .colab-df-convert {\n",
              "      background-color: #3B4455;\n",
              "      fill: #D2E3FC;\n",
              "    }\n",
              "\n",
              "    [theme=dark] .colab-df-convert:hover {\n",
              "      background-color: #434B5C;\n",
              "      box-shadow: 0px 1px 3px 1px rgba(0, 0, 0, 0.15);\n",
              "      filter: drop-shadow(0px 1px 2px rgba(0, 0, 0, 0.3));\n",
              "      fill: #FFFFFF;\n",
              "    }\n",
              "  </style>\n",
              "\n",
              "    <script>\n",
              "      const buttonEl =\n",
              "        document.querySelector('#df-235a0523-65f3-4358-ad18-73f57f354aa5 button.colab-df-convert');\n",
              "      buttonEl.style.display =\n",
              "        google.colab.kernel.accessAllowed ? 'block' : 'none';\n",
              "\n",
              "      async function convertToInteractive(key) {\n",
              "        const element = document.querySelector('#df-235a0523-65f3-4358-ad18-73f57f354aa5');\n",
              "        const dataTable =\n",
              "          await google.colab.kernel.invokeFunction('convertToInteractive',\n",
              "                                                    [key], {});\n",
              "        if (!dataTable) return;\n",
              "\n",
              "        const docLinkHtml = 'Like what you see? Visit the ' +\n",
              "          '<a target=\"_blank\" href=https://colab.research.google.com/notebooks/data_table.ipynb>data table notebook</a>'\n",
              "          + ' to learn more about interactive tables.';\n",
              "        element.innerHTML = '';\n",
              "        dataTable['output_type'] = 'display_data';\n",
              "        await google.colab.output.renderOutput(dataTable, element);\n",
              "        const docLink = document.createElement('div');\n",
              "        docLink.innerHTML = docLinkHtml;\n",
              "        element.appendChild(docLink);\n",
              "      }\n",
              "    </script>\n",
              "  </div>\n",
              "\n",
              "\n",
              "<div id=\"df-402fb273-b3b7-4e44-abff-b392b017e1ab\">\n",
              "  <button class=\"colab-df-quickchart\" onclick=\"quickchart('df-402fb273-b3b7-4e44-abff-b392b017e1ab')\"\n",
              "            title=\"Suggest charts\"\n",
              "            style=\"display:none;\">\n",
              "\n",
              "<svg xmlns=\"http://www.w3.org/2000/svg\" height=\"24px\"viewBox=\"0 0 24 24\"\n",
              "     width=\"24px\">\n",
              "    <g>\n",
              "        <path d=\"M19 3H5c-1.1 0-2 .9-2 2v14c0 1.1.9 2 2 2h14c1.1 0 2-.9 2-2V5c0-1.1-.9-2-2-2zM9 17H7v-7h2v7zm4 0h-2V7h2v10zm4 0h-2v-4h2v4z\"/>\n",
              "    </g>\n",
              "</svg>\n",
              "  </button>\n",
              "\n",
              "<style>\n",
              "  .colab-df-quickchart {\n",
              "      --bg-color: #E8F0FE;\n",
              "      --fill-color: #1967D2;\n",
              "      --hover-bg-color: #E2EBFA;\n",
              "      --hover-fill-color: #174EA6;\n",
              "      --disabled-fill-color: #AAA;\n",
              "      --disabled-bg-color: #DDD;\n",
              "  }\n",
              "\n",
              "  [theme=dark] .colab-df-quickchart {\n",
              "      --bg-color: #3B4455;\n",
              "      --fill-color: #D2E3FC;\n",
              "      --hover-bg-color: #434B5C;\n",
              "      --hover-fill-color: #FFFFFF;\n",
              "      --disabled-bg-color: #3B4455;\n",
              "      --disabled-fill-color: #666;\n",
              "  }\n",
              "\n",
              "  .colab-df-quickchart {\n",
              "    background-color: var(--bg-color);\n",
              "    border: none;\n",
              "    border-radius: 50%;\n",
              "    cursor: pointer;\n",
              "    display: none;\n",
              "    fill: var(--fill-color);\n",
              "    height: 32px;\n",
              "    padding: 0;\n",
              "    width: 32px;\n",
              "  }\n",
              "\n",
              "  .colab-df-quickchart:hover {\n",
              "    background-color: var(--hover-bg-color);\n",
              "    box-shadow: 0 1px 2px rgba(60, 64, 67, 0.3), 0 1px 3px 1px rgba(60, 64, 67, 0.15);\n",
              "    fill: var(--button-hover-fill-color);\n",
              "  }\n",
              "\n",
              "  .colab-df-quickchart-complete:disabled,\n",
              "  .colab-df-quickchart-complete:disabled:hover {\n",
              "    background-color: var(--disabled-bg-color);\n",
              "    fill: var(--disabled-fill-color);\n",
              "    box-shadow: none;\n",
              "  }\n",
              "\n",
              "  .colab-df-spinner {\n",
              "    border: 2px solid var(--fill-color);\n",
              "    border-color: transparent;\n",
              "    border-bottom-color: var(--fill-color);\n",
              "    animation:\n",
              "      spin 1s steps(1) infinite;\n",
              "  }\n",
              "\n",
              "  @keyframes spin {\n",
              "    0% {\n",
              "      border-color: transparent;\n",
              "      border-bottom-color: var(--fill-color);\n",
              "      border-left-color: var(--fill-color);\n",
              "    }\n",
              "    20% {\n",
              "      border-color: transparent;\n",
              "      border-left-color: var(--fill-color);\n",
              "      border-top-color: var(--fill-color);\n",
              "    }\n",
              "    30% {\n",
              "      border-color: transparent;\n",
              "      border-left-color: var(--fill-color);\n",
              "      border-top-color: var(--fill-color);\n",
              "      border-right-color: var(--fill-color);\n",
              "    }\n",
              "    40% {\n",
              "      border-color: transparent;\n",
              "      border-right-color: var(--fill-color);\n",
              "      border-top-color: var(--fill-color);\n",
              "    }\n",
              "    60% {\n",
              "      border-color: transparent;\n",
              "      border-right-color: var(--fill-color);\n",
              "    }\n",
              "    80% {\n",
              "      border-color: transparent;\n",
              "      border-right-color: var(--fill-color);\n",
              "      border-bottom-color: var(--fill-color);\n",
              "    }\n",
              "    90% {\n",
              "      border-color: transparent;\n",
              "      border-bottom-color: var(--fill-color);\n",
              "    }\n",
              "  }\n",
              "</style>\n",
              "\n",
              "  <script>\n",
              "    async function quickchart(key) {\n",
              "      const quickchartButtonEl =\n",
              "        document.querySelector('#' + key + ' button');\n",
              "      quickchartButtonEl.disabled = true;  // To prevent multiple clicks.\n",
              "      quickchartButtonEl.classList.add('colab-df-spinner');\n",
              "      try {\n",
              "        const charts = await google.colab.kernel.invokeFunction(\n",
              "            'suggestCharts', [key], {});\n",
              "      } catch (error) {\n",
              "        console.error('Error during call to suggestCharts:', error);\n",
              "      }\n",
              "      quickchartButtonEl.classList.remove('colab-df-spinner');\n",
              "      quickchartButtonEl.classList.add('colab-df-quickchart-complete');\n",
              "    }\n",
              "    (() => {\n",
              "      let quickchartButtonEl =\n",
              "        document.querySelector('#df-402fb273-b3b7-4e44-abff-b392b017e1ab button');\n",
              "      quickchartButtonEl.style.display =\n",
              "        google.colab.kernel.accessAllowed ? 'block' : 'none';\n",
              "    })();\n",
              "  </script>\n",
              "</div>\n",
              "\n",
              "    </div>\n",
              "  </div>\n"
            ],
            "application/vnd.google.colaboratory.intrinsic+json": {
              "type": "dataframe",
              "variable_name": "data",
              "summary": "{\n  \"name\": \"data\",\n  \"rows\": 7662,\n  \"fields\": [\n    {\n      \"column\": \"Date\",\n      \"properties\": {\n        \"dtype\": \"object\",\n        \"num_unique_values\": 7660,\n        \"samples\": [\n          \"23/11/2004\",\n          \"16/12/2014\",\n          \"21/06/2021\"\n        ],\n        \"semantic_type\": \"\",\n        \"description\": \"\"\n      }\n    },\n    {\n      \"column\": \"London futures (\\u00a3 sterling/tonne)\",\n      \"properties\": {\n        \"dtype\": \"string\",\n        \"num_unique_values\": 4321,\n        \"samples\": [\n          \"1,589.33\",\n          \"1,546.00\",\n          \"1,447.33\"\n        ],\n        \"semantic_type\": \"\",\n        \"description\": \"\"\n      }\n    },\n    {\n      \"column\": \"New York futures (US$/tonne)\",\n      \"properties\": {\n        \"dtype\": \"string\",\n        \"num_unique_values\": 4744,\n        \"samples\": [\n          \"2,509.00\",\n          \"2,820.33\",\n          \"1,412.33\"\n        ],\n        \"semantic_type\": \"\",\n        \"description\": \"\"\n      }\n    },\n    {\n      \"column\": \"ICCO daily price (US$/tonne)\",\n      \"properties\": {\n        \"dtype\": \"string\",\n        \"num_unique_values\": 7537,\n        \"samples\": [\n          \"2,471.81\",\n          \"3,037.73\",\n          \"2,177.18\"\n        ],\n        \"semantic_type\": \"\",\n        \"description\": \"\"\n      }\n    },\n    {\n      \"column\": \"ICCO daily price (Euro/tonne)\",\n      \"properties\": {\n        \"dtype\": \"category\",\n        \"num_unique_values\": 2928,\n        \"samples\": [\n          \"1,437.00\",\n          \"3,584.07\",\n          \"1,343.00\"\n        ],\n        \"semantic_type\": \"\",\n        \"description\": \"\"\n      }\n    }\n  ]\n}"
            }
          },
          "metadata": {},
          "execution_count": 15
        }
      ],
      "source": [
        "# Select tuples with entries\n",
        "data = data.iloc[0:7662]\n",
        "data.head()"
      ]
    },
    {
      "cell_type": "code",
      "execution_count": 16,
      "metadata": {
        "id": "9X661KzUEcTa"
      },
      "outputs": [],
      "source": [
        "# Function to check for 30% data absence per column\n",
        "def threshold(dataframe):\n",
        "\n",
        "    # The data integrity threshold provided (30%)\n",
        "    threshold = 0.3\n",
        "\n",
        "    # Calculating threshold count for missing values\n",
        "    threshold_count = int(threshold * len(dataframe))\n",
        "\n",
        "    # Pulling out unsafe columns\n",
        "    unsafe_columns = [col for col in dataframe.columns if dataframe[col].isnull().sum() > threshold_count]\n",
        "    if len(unsafe_columns) == 0:\n",
        "        print(\"No columns have more than 30% missing values.\")\n",
        "    else:\n",
        "        print(f\"{len(unsafe_columns)} unsafe columns have been identified.\")\n",
        "\n",
        "    return unsafe_columns"
      ]
    },
    {
      "cell_type": "code",
      "execution_count": 17,
      "metadata": {
        "colab": {
          "base_uri": "https://localhost:8080/",
          "height": 0
        },
        "id": "8H7qLNKqErzp",
        "outputId": "dc6a309e-b840-4c82-f08c-540b4dac385c"
      },
      "outputs": [
        {
          "output_type": "stream",
          "name": "stdout",
          "text": [
            "No columns have more than 30% missing values.\n"
          ]
        },
        {
          "output_type": "execute_result",
          "data": {
            "text/plain": [
              "[]"
            ]
          },
          "metadata": {},
          "execution_count": 17
        }
      ],
      "source": [
        "threshold(data)"
      ]
    },
    {
      "cell_type": "code",
      "execution_count": 18,
      "metadata": {
        "id": "xdSJkVMyFPQZ"
      },
      "outputs": [],
      "source": [
        "# Function to identify columns with missing values\n",
        "def find_null_columns(x):\n",
        "\n",
        "    # Initialize empty list to store columns with null values\n",
        "    null_columns = []\n",
        "\n",
        "    # Iterate through all columns in the dataframe\n",
        "    for col in x.columns:\n",
        "\n",
        "        # Check if column has any null values\n",
        "        if x[col].isnull().any():\n",
        "            # Add column name to list if it contains nulls\n",
        "            null_columns.append(col)\n",
        "    if len(null_columns) > 0:\n",
        "        # Print the list of columns with null values\n",
        "        print(f\"The following columns have null values: {null_columns}\")\n",
        "    else:\n",
        "        print(\"No columns have null values.\")\n",
        "    print(null_columns)"
      ]
    },
    {
      "cell_type": "code",
      "execution_count": 19,
      "metadata": {
        "colab": {
          "base_uri": "https://localhost:8080/",
          "height": 0
        },
        "id": "ijJ7FFKHGC48",
        "outputId": "cbcdb52a-69d6-4997-d737-d4b8f40b0b18"
      },
      "outputs": [
        {
          "output_type": "stream",
          "name": "stdout",
          "text": [
            "No columns have null values.\n",
            "[]\n"
          ]
        }
      ],
      "source": [
        "find_null_columns(data)"
      ]
    },
    {
      "cell_type": "code",
      "execution_count": 20,
      "metadata": {
        "id": "7iXtMxCq21GB"
      },
      "outputs": [],
      "source": [
        "# Convert the 'Date' column to datetime without specifying a format\n",
        "data['Date'] = pd.to_datetime(data['Date'], dayfirst=True, errors='coerce')\n",
        "\n",
        "# Convert price columns to numeric (remove any commas and convert to float)\n",
        "price_columns = ['London futures (£ sterling/tonne)', 'New York futures (US$/tonne)',\n",
        "                 'ICCO daily price (US$/tonne)', 'ICCO daily price (Euro/tonne)']\n",
        "\n",
        "# Use 'data' consistently instead of mixing it with 'df'\n",
        "for col in price_columns:\n",
        "    # Check if the column is of type object (likely string) before applying string operations\n",
        "    if data[col].dtype == 'object':\n",
        "        data[col] = pd.to_numeric(data[col].str.replace(',', ''), errors='coerce')\n",
        "    else:\n",
        "        print(f\"Column '{col}' is not of string type. Skipping string replacement.\")"
      ]
    },
    {
      "cell_type": "code",
      "execution_count": 21,
      "metadata": {
        "id": "B5bXxeQ221GC"
      },
      "outputs": [],
      "source": [
        "# Sort the data by date\n",
        "data = data.sort_values('Date')"
      ]
    },
    {
      "cell_type": "code",
      "execution_count": 22,
      "metadata": {
        "id": "CzZiot2i21GC"
      },
      "outputs": [],
      "source": [
        "# Convert 'Date' column to datetime without specifying a format, handling errors\n",
        "data['Date'] = pd.to_datetime(data['Date'], dayfirst=True, errors='coerce')\n",
        "\n",
        "# Check for any values that failed to convert (NaT)\n",
        "failed_conversions = data[data['Date'].isna()]\n",
        "if not failed_conversions.empty:\n",
        "    print(\"Failed to convert the following dates:\")\n",
        "    print(failed_conversions)\n",
        "    # Handle the failed conversions (e.g., try to fix the format, drop the rows, etc.)\n",
        "    data = data.dropna(subset=['Date']) # Drop rows with invalid dates\n",
        "\n",
        "# Continue with the rest of your code...\n",
        "data['Days'] = (data['Date'] - data['Date'].min()).dt.days # Use df instead of data"
      ]
    },
    {
      "cell_type": "code",
      "execution_count": 23,
      "metadata": {
        "id": "d72anpKW21GC"
      },
      "outputs": [],
      "source": [
        "# Choose which market to predict (London or New York)\n",
        "market = 'London futures (£ sterling/tonne)'"
      ]
    },
    {
      "cell_type": "code",
      "execution_count": 24,
      "metadata": {
        "colab": {
          "base_uri": "https://localhost:8080/",
          "height": 0
        },
        "id": "lxyWT1kg21GC",
        "outputId": "a3c88cf6-631e-46bb-8937-5c644a057407"
      },
      "outputs": [
        {
          "output_type": "stream",
          "name": "stdout",
          "text": [
            "float64\n"
          ]
        }
      ],
      "source": [
        "# Choose which market to predict (London or New York)\n",
        "market = 'London futures (£ sterling/tonne)'\n",
        "\n",
        "# NO CHANGES NEEDED HERE.  The price data was already cleaned in a previous step.\n",
        "# Clean the price data: remove commas and convert to float\n",
        "# data[market] = data[market].str.replace(',', '').astype(float)\n",
        "\n",
        "# Verify the data type of the market column\n",
        "print(data[market].dtype)"
      ]
    },
    {
      "cell_type": "code",
      "execution_count": 25,
      "metadata": {
        "colab": {
          "base_uri": "https://localhost:8080/",
          "height": 0
        },
        "id": "gdf3U66X21GC",
        "outputId": "99f3f5f2-b372-4ff2-a0bc-c2eca4e0b466"
      },
      "outputs": [
        {
          "output_type": "stream",
          "name": "stdout",
          "text": [
            "<class 'pandas.core.frame.DataFrame'>\n",
            "Index: 7662 entries, 7661 to 0\n",
            "Data columns (total 6 columns):\n",
            " #   Column                             Non-Null Count  Dtype         \n",
            "---  ------                             --------------  -----         \n",
            " 0   Date                               7662 non-null   datetime64[ns]\n",
            " 1   London futures (£ sterling/tonne)  7662 non-null   float64       \n",
            " 2   New York futures (US$/tonne)       7662 non-null   float64       \n",
            " 3   ICCO daily price (US$/tonne)       7662 non-null   float64       \n",
            " 4   ICCO daily price (Euro/tonne)      7662 non-null   float64       \n",
            " 5   Days                               7662 non-null   int64         \n",
            "dtypes: datetime64[ns](1), float64(4), int64(1)\n",
            "memory usage: 419.0 KB\n"
          ]
        }
      ],
      "source": [
        "# Display information about the dataframe\n",
        "data.info()"
      ]
    },
    {
      "cell_type": "code",
      "execution_count": 26,
      "metadata": {
        "id": "Et8-Kpkl21GC"
      },
      "outputs": [],
      "source": [
        "# Calculate moving averages\n",
        "data['MA_7'] = data[market].rolling(window=7).mean()\n",
        "data['MA_30'] = data[market].rolling(window=30).mean()\n",
        "data['MA_90'] = data[market].rolling(window=90).mean()"
      ]
    },
    {
      "cell_type": "code",
      "execution_count": 27,
      "metadata": {
        "id": "DllIAvxt21GC"
      },
      "outputs": [],
      "source": [
        "# Calculate price differences\n",
        "data['Price_Diff'] = data[market].diff()"
      ]
    },
    {
      "cell_type": "code",
      "execution_count": 28,
      "metadata": {
        "id": "d_PuHnu621GC"
      },
      "outputs": [],
      "source": [
        "# Calculate volatility measures (standard deviation over rolling windows)\n",
        "data['Volatility_7'] = data[market].rolling(window=7).std()\n",
        "data['Volatility_30'] = data[market].rolling(window=30).std()\n",
        "data['Volatility_90'] = data[market].rolling(window=90).std()"
      ]
    },
    {
      "cell_type": "code",
      "source": [
        "data.to_csv('/content/ldn_cleaned_data.csv', index=False)"
      ],
      "metadata": {
        "id": "-xs2dQzyqZcL"
      },
      "execution_count": 33,
      "outputs": []
    },
    {
      "cell_type": "code",
      "execution_count": 29,
      "metadata": {
        "id": "A0P7bAN-21GC"
      },
      "outputs": [],
      "source": [
        "# Calculate a 'Days' column if it doesn't exist (assuming you want a simple day counter)\n",
        "data['Days'] = range(1, len(data) + 1)\n",
        "\n",
        "# Prepare X and y\n",
        "X = data[['Days', 'MA_7', 'MA_30', 'MA_90', 'Price_Diff', 'Volatility_7', 'Volatility_30', 'Volatility_90']]\n",
        "y = data[market]"
      ]
    },
    {
      "cell_type": "code",
      "execution_count": 30,
      "metadata": {
        "id": "6QPAGjRw21GC"
      },
      "outputs": [],
      "source": [
        "# Handle missing values in features\n",
        "X = X.fillna(0)"
      ]
    },
    {
      "cell_type": "code",
      "execution_count": 31,
      "metadata": {
        "id": "6ZGJ1i0M21GC"
      },
      "outputs": [],
      "source": [
        "# Split the data into training and testing sets\n",
        "X_train, X_test, y_train, y_test = train_test_split(X, y, test_size=0.3, random_state=42)"
      ]
    },
    {
      "cell_type": "code",
      "execution_count": null,
      "metadata": {
        "colab": {
          "background_save": true
        },
        "id": "Fv2-QqxC21GC"
      },
      "outputs": [],
      "source": [
        "# Standardize features\n",
        "scaler = StandardScaler()\n",
        "X_train_scaled = scaler.fit_transform(X_train)\n",
        "X_test_scaled = scaler.transform(X_test)"
      ]
    },
    {
      "cell_type": "code",
      "execution_count": null,
      "metadata": {
        "colab": {
          "background_save": true
        },
        "id": "gQ3v75eAp46A"
      },
      "outputs": [],
      "source": [
        "# Reshape the data for LSTM\n",
        "X_train_lstm = X_train_scaled.reshape((X_train_scaled.shape[0], 1, X_train_scaled.shape[1]))\n",
        "X_test_lstm = X_test_scaled.reshape((X_test_scaled.shape[0], 1, X_test_scaled.shape[1]))\n",
        "\n",
        "# Build LSTM model\n",
        "lstm_model = Sequential()\n",
        "lstm_model.add(LSTM(50, activation='relu', input_shape=(1, X_train_scaled.shape[1])))\n",
        "lstm_model.add(Dense(1))\n",
        "lstm_model.compile(optimizer='adam', loss='mse')"
      ]
    },
    {
      "cell_type": "code",
      "execution_count": null,
      "metadata": {
        "colab": {
          "background_save": true
        },
        "id": "TibMpI1-p46A",
        "outputId": "fcb9edd0-fee3-4267-faa4-a8e212e63d9b"
      },
      "outputs": [
        {
          "name": "stdout",
          "output_type": "stream",
          "text": [
            "Epoch 1/100\n",
            "\u001b[1m168/168\u001b[0m \u001b[32m━━━━━━━━━━━━━━━━━━━━\u001b[0m\u001b[37m\u001b[0m \u001b[1m3s\u001b[0m 5ms/step - loss: 3005239.2500 - val_loss: 2826663.0000\n",
            "Epoch 2/100\n",
            "\u001b[1m168/168\u001b[0m \u001b[32m━━━━━━━━━━━━━━━━━━━━\u001b[0m\u001b[37m\u001b[0m \u001b[1m1s\u001b[0m 2ms/step - loss: 2963031.7500 - val_loss: 2788369.0000\n",
            "Epoch 3/100\n",
            "\u001b[1m168/168\u001b[0m \u001b[32m━━━━━━━━━━━━━━━━━━━━\u001b[0m\u001b[37m\u001b[0m \u001b[1m1s\u001b[0m 2ms/step - loss: 2879152.2500 - val_loss: 2717727.0000\n",
            "Epoch 4/100\n",
            "\u001b[1m168/168\u001b[0m \u001b[32m━━━━━━━━━━━━━━━━━━━━\u001b[0m\u001b[37m\u001b[0m \u001b[1m0s\u001b[0m 2ms/step - loss: 2877010.7500 - val_loss: 2620494.5000\n",
            "Epoch 5/100\n",
            "\u001b[1m168/168\u001b[0m \u001b[32m━━━━━━━━━━━━━━━━━━━━\u001b[0m\u001b[37m\u001b[0m \u001b[1m1s\u001b[0m 3ms/step - loss: 2827073.5000 - val_loss: 2505479.0000\n",
            "Epoch 6/100\n",
            "\u001b[1m168/168\u001b[0m \u001b[32m━━━━━━━━━━━━━━━━━━━━\u001b[0m\u001b[37m\u001b[0m \u001b[1m1s\u001b[0m 3ms/step - loss: 2597255.0000 - val_loss: 2372636.7500\n",
            "Epoch 7/100\n",
            "\u001b[1m168/168\u001b[0m \u001b[32m━━━━━━━━━━━━━━━━━━━━\u001b[0m\u001b[37m\u001b[0m \u001b[1m1s\u001b[0m 2ms/step - loss: 2533502.0000 - val_loss: 2228964.0000\n",
            "Epoch 8/100\n",
            "\u001b[1m168/168\u001b[0m \u001b[32m━━━━━━━━━━━━━━━━━━━━\u001b[0m\u001b[37m\u001b[0m \u001b[1m1s\u001b[0m 3ms/step - loss: 2386026.2500 - val_loss: 2077095.1250\n",
            "Epoch 9/100\n",
            "\u001b[1m168/168\u001b[0m \u001b[32m━━━━━━━━━━━━━━━━━━━━\u001b[0m\u001b[37m\u001b[0m \u001b[1m1s\u001b[0m 2ms/step - loss: 2217885.0000 - val_loss: 1922124.6250\n",
            "Epoch 10/100\n",
            "\u001b[1m168/168\u001b[0m \u001b[32m━━━━━━━━━━━━━━━━━━━━\u001b[0m\u001b[37m\u001b[0m \u001b[1m1s\u001b[0m 3ms/step - loss: 2004981.5000 - val_loss: 1766770.8750\n",
            "Epoch 11/100\n",
            "\u001b[1m168/168\u001b[0m \u001b[32m━━━━━━━━━━━━━━━━━━━━\u001b[0m\u001b[37m\u001b[0m \u001b[1m0s\u001b[0m 3ms/step - loss: 1787331.3750 - val_loss: 1616040.5000\n",
            "Epoch 12/100\n",
            "\u001b[1m168/168\u001b[0m \u001b[32m━━━━━━━━━━━━━━━━━━━━\u001b[0m\u001b[37m\u001b[0m \u001b[1m1s\u001b[0m 2ms/step - loss: 1625851.2500 - val_loss: 1470098.7500\n",
            "Epoch 13/100\n",
            "\u001b[1m168/168\u001b[0m \u001b[32m━━━━━━━━━━━━━━━━━━━━\u001b[0m\u001b[37m\u001b[0m \u001b[1m1s\u001b[0m 2ms/step - loss: 1492878.6250 - val_loss: 1331733.8750\n",
            "Epoch 14/100\n",
            "\u001b[1m168/168\u001b[0m \u001b[32m━━━━━━━━━━━━━━━━━━━━\u001b[0m\u001b[37m\u001b[0m \u001b[1m0s\u001b[0m 2ms/step - loss: 1337304.0000 - val_loss: 1202993.7500\n",
            "Epoch 15/100\n",
            "\u001b[1m168/168\u001b[0m \u001b[32m━━━━━━━━━━━━━━━━━━━━\u001b[0m\u001b[37m\u001b[0m \u001b[1m0s\u001b[0m 2ms/step - loss: 1181567.1250 - val_loss: 1086727.0000\n",
            "Epoch 16/100\n",
            "\u001b[1m168/168\u001b[0m \u001b[32m━━━━━━━━━━━━━━━━━━━━\u001b[0m\u001b[37m\u001b[0m \u001b[1m1s\u001b[0m 3ms/step - loss: 1072728.0000 - val_loss: 980677.1875\n",
            "Epoch 17/100\n",
            "\u001b[1m168/168\u001b[0m \u001b[32m━━━━━━━━━━━━━━━━━━━━\u001b[0m\u001b[37m\u001b[0m \u001b[1m0s\u001b[0m 2ms/step - loss: 957046.8125 - val_loss: 887197.2500\n",
            "Epoch 18/100\n",
            "\u001b[1m168/168\u001b[0m \u001b[32m━━━━━━━━━━━━━━━━━━━━\u001b[0m\u001b[37m\u001b[0m \u001b[1m0s\u001b[0m 3ms/step - loss: 877770.6875 - val_loss: 805043.6250\n",
            "Epoch 19/100\n",
            "\u001b[1m168/168\u001b[0m \u001b[32m━━━━━━━━━━━━━━━━━━━━\u001b[0m\u001b[37m\u001b[0m \u001b[1m1s\u001b[0m 3ms/step - loss: 773759.7500 - val_loss: 732663.7500\n",
            "Epoch 20/100\n",
            "\u001b[1m168/168\u001b[0m \u001b[32m━━━━━━━━━━━━━━━━━━━━\u001b[0m\u001b[37m\u001b[0m \u001b[1m1s\u001b[0m 4ms/step - loss: 712068.6875 - val_loss: 669793.8750\n",
            "Epoch 21/100\n",
            "\u001b[1m168/168\u001b[0m \u001b[32m━━━━━━━━━━━━━━━━━━━━\u001b[0m\u001b[37m\u001b[0m \u001b[1m1s\u001b[0m 4ms/step - loss: 666011.5000 - val_loss: 613595.1250\n",
            "Epoch 22/100\n",
            "\u001b[1m168/168\u001b[0m \u001b[32m━━━━━━━━━━━━━━━━━━━━\u001b[0m\u001b[37m\u001b[0m \u001b[1m1s\u001b[0m 3ms/step - loss: 600894.0000 - val_loss: 563830.3125\n",
            "Epoch 23/100\n",
            "\u001b[1m168/168\u001b[0m \u001b[32m━━━━━━━━━━━━━━━━━━━━\u001b[0m\u001b[37m\u001b[0m \u001b[1m0s\u001b[0m 3ms/step - loss: 560882.7500 - val_loss: 518607.0625\n",
            "Epoch 24/100\n",
            "\u001b[1m168/168\u001b[0m \u001b[32m━━━━━━━━━━━━━━━━━━━━\u001b[0m\u001b[37m\u001b[0m \u001b[1m1s\u001b[0m 3ms/step - loss: 522617.7188 - val_loss: 477647.4062\n",
            "Epoch 25/100\n",
            "\u001b[1m168/168\u001b[0m \u001b[32m━━━━━━━━━━━━━━━━━━━━\u001b[0m\u001b[37m\u001b[0m \u001b[1m1s\u001b[0m 3ms/step - loss: 477247.3750 - val_loss: 440693.4375\n",
            "Epoch 26/100\n",
            "\u001b[1m168/168\u001b[0m \u001b[32m━━━━━━━━━━━━━━━━━━━━\u001b[0m\u001b[37m\u001b[0m \u001b[1m1s\u001b[0m 3ms/step - loss: 435153.0312 - val_loss: 406112.2500\n",
            "Epoch 27/100\n",
            "\u001b[1m168/168\u001b[0m \u001b[32m━━━━━━━━━━━━━━━━━━━━\u001b[0m\u001b[37m\u001b[0m \u001b[1m0s\u001b[0m 2ms/step - loss: 415127.8125 - val_loss: 374361.3438\n",
            "Epoch 28/100\n",
            "\u001b[1m168/168\u001b[0m \u001b[32m━━━━━━━━━━━━━━━━━━━━\u001b[0m\u001b[37m\u001b[0m \u001b[1m0s\u001b[0m 3ms/step - loss: 391250.5312 - val_loss: 344703.4375\n",
            "Epoch 29/100\n",
            "\u001b[1m168/168\u001b[0m \u001b[32m━━━━━━━━━━━━━━━━━━━━\u001b[0m\u001b[37m\u001b[0m \u001b[1m0s\u001b[0m 2ms/step - loss: 341689.0625 - val_loss: 316350.4062\n",
            "Epoch 30/100\n",
            "\u001b[1m168/168\u001b[0m \u001b[32m━━━━━━━━━━━━━━━━━━━━\u001b[0m\u001b[37m\u001b[0m \u001b[1m0s\u001b[0m 2ms/step - loss: 308610.0938 - val_loss: 289920.5312\n",
            "Epoch 31/100\n",
            "\u001b[1m168/168\u001b[0m \u001b[32m━━━━━━━━━━━━━━━━━━━━\u001b[0m\u001b[37m\u001b[0m \u001b[1m1s\u001b[0m 3ms/step - loss: 295474.9062 - val_loss: 265267.5625\n",
            "Epoch 32/100\n",
            "\u001b[1m168/168\u001b[0m \u001b[32m━━━━━━━━━━━━━━━━━━━━\u001b[0m\u001b[37m\u001b[0m \u001b[1m1s\u001b[0m 3ms/step - loss: 258470.7344 - val_loss: 242947.5312\n",
            "Epoch 33/100\n",
            "\u001b[1m168/168\u001b[0m \u001b[32m━━━━━━━━━━━━━━━━━━━━\u001b[0m\u001b[37m\u001b[0m \u001b[1m1s\u001b[0m 3ms/step - loss: 248839.5625 - val_loss: 222542.1250\n",
            "Epoch 34/100\n",
            "\u001b[1m168/168\u001b[0m \u001b[32m━━━━━━━━━━━━━━━━━━━━\u001b[0m\u001b[37m\u001b[0m \u001b[1m1s\u001b[0m 3ms/step - loss: 231826.6094 - val_loss: 204253.7188\n",
            "Epoch 35/100\n",
            "\u001b[1m168/168\u001b[0m \u001b[32m━━━━━━━━━━━━━━━━━━━━\u001b[0m\u001b[37m\u001b[0m \u001b[1m0s\u001b[0m 3ms/step - loss: 203846.1719 - val_loss: 187897.1719\n",
            "Epoch 36/100\n",
            "\u001b[1m168/168\u001b[0m \u001b[32m━━━━━━━━━━━━━━━━━━━━\u001b[0m\u001b[37m\u001b[0m \u001b[1m1s\u001b[0m 3ms/step - loss: 187397.6719 - val_loss: 173518.4062\n",
            "Epoch 37/100\n",
            "\u001b[1m168/168\u001b[0m \u001b[32m━━━━━━━━━━━━━━━━━━━━\u001b[0m\u001b[37m\u001b[0m \u001b[1m0s\u001b[0m 2ms/step - loss: 167741.9219 - val_loss: 160798.0312\n",
            "Epoch 38/100\n",
            "\u001b[1m168/168\u001b[0m \u001b[32m━━━━━━━━━━━━━━━━━━━━\u001b[0m\u001b[37m\u001b[0m \u001b[1m1s\u001b[0m 3ms/step - loss: 160423.6094 - val_loss: 149664.5625\n",
            "Epoch 39/100\n",
            "\u001b[1m168/168\u001b[0m \u001b[32m━━━━━━━━━━━━━━━━━━━━\u001b[0m\u001b[37m\u001b[0m \u001b[1m0s\u001b[0m 3ms/step - loss: 147387.5625 - val_loss: 139847.3906\n",
            "Epoch 40/100\n",
            "\u001b[1m168/168\u001b[0m \u001b[32m━━━━━━━━━━━━━━━━━━━━\u001b[0m\u001b[37m\u001b[0m \u001b[1m1s\u001b[0m 3ms/step - loss: 141526.2500 - val_loss: 130819.0625\n",
            "Epoch 41/100\n",
            "\u001b[1m168/168\u001b[0m \u001b[32m━━━━━━━━━━━━━━━━━━━━\u001b[0m\u001b[37m\u001b[0m \u001b[1m1s\u001b[0m 3ms/step - loss: 133227.0625 - val_loss: 122616.0938\n",
            "Epoch 42/100\n",
            "\u001b[1m168/168\u001b[0m \u001b[32m━━━━━━━━━━━━━━━━━━━━\u001b[0m\u001b[37m\u001b[0m \u001b[1m1s\u001b[0m 4ms/step - loss: 124491.8359 - val_loss: 114795.7266\n",
            "Epoch 43/100\n",
            "\u001b[1m168/168\u001b[0m \u001b[32m━━━━━━━━━━━━━━━━━━━━\u001b[0m\u001b[37m\u001b[0m \u001b[1m1s\u001b[0m 4ms/step - loss: 117729.5938 - val_loss: 107368.5938\n",
            "Epoch 44/100\n",
            "\u001b[1m168/168\u001b[0m \u001b[32m━━━━━━━━━━━━━━━━━━━━\u001b[0m\u001b[37m\u001b[0m \u001b[1m1s\u001b[0m 4ms/step - loss: 108837.6250 - val_loss: 100216.8984\n",
            "Epoch 45/100\n",
            "\u001b[1m168/168\u001b[0m \u001b[32m━━━━━━━━━━━━━━━━━━━━\u001b[0m\u001b[37m\u001b[0m \u001b[1m1s\u001b[0m 4ms/step - loss: 101595.8281 - val_loss: 93245.0000\n",
            "Epoch 46/100\n",
            "\u001b[1m168/168\u001b[0m \u001b[32m━━━━━━━━━━━━━━━━━━━━\u001b[0m\u001b[37m\u001b[0m \u001b[1m1s\u001b[0m 3ms/step - loss: 98679.2188 - val_loss: 86593.4219\n",
            "Epoch 47/100\n",
            "\u001b[1m168/168\u001b[0m \u001b[32m━━━━━━━━━━━━━━━━━━━━\u001b[0m\u001b[37m\u001b[0m \u001b[1m1s\u001b[0m 3ms/step - loss: 94668.7188 - val_loss: 80098.4688\n",
            "Epoch 48/100\n",
            "\u001b[1m168/168\u001b[0m \u001b[32m━━━━━━━━━━━━━━━━━━━━\u001b[0m\u001b[37m\u001b[0m \u001b[1m0s\u001b[0m 3ms/step - loss: 81086.0469 - val_loss: 73793.1172\n",
            "Epoch 49/100\n",
            "\u001b[1m168/168\u001b[0m \u001b[32m━━━━━━━━━━━━━━━━━━━━\u001b[0m\u001b[37m\u001b[0m \u001b[1m1s\u001b[0m 2ms/step - loss: 77995.4062 - val_loss: 67833.9141\n",
            "Epoch 50/100\n",
            "\u001b[1m168/168\u001b[0m \u001b[32m━━━━━━━━━━━━━━━━━━━━\u001b[0m\u001b[37m\u001b[0m \u001b[1m0s\u001b[0m 2ms/step - loss: 69751.2422 - val_loss: 62256.7578\n",
            "Epoch 51/100\n",
            "\u001b[1m168/168\u001b[0m \u001b[32m━━━━━━━━━━━━━━━━━━━━\u001b[0m\u001b[37m\u001b[0m \u001b[1m0s\u001b[0m 3ms/step - loss: 63336.4492 - val_loss: 57062.6094\n",
            "Epoch 52/100\n",
            "\u001b[1m168/168\u001b[0m \u001b[32m━━━━━━━━━━━━━━━━━━━━\u001b[0m\u001b[37m\u001b[0m \u001b[1m0s\u001b[0m 3ms/step - loss: 57878.8750 - val_loss: 52134.3281\n",
            "Epoch 53/100\n",
            "\u001b[1m168/168\u001b[0m \u001b[32m━━━━━━━━━━━━━━━━━━━━\u001b[0m\u001b[37m\u001b[0m \u001b[1m0s\u001b[0m 3ms/step - loss: 53764.0938 - val_loss: 47663.3750\n",
            "Epoch 54/100\n",
            "\u001b[1m168/168\u001b[0m \u001b[32m━━━━━━━━━━━━━━━━━━━━\u001b[0m\u001b[37m\u001b[0m \u001b[1m1s\u001b[0m 2ms/step - loss: 48276.4336 - val_loss: 42879.5508\n",
            "Epoch 55/100\n",
            "\u001b[1m168/168\u001b[0m \u001b[32m━━━━━━━━━━━━━━━━━━━━\u001b[0m\u001b[37m\u001b[0m \u001b[1m1s\u001b[0m 2ms/step - loss: 42539.5742 - val_loss: 38226.5547\n",
            "Epoch 56/100\n",
            "\u001b[1m168/168\u001b[0m \u001b[32m━━━━━━━━━━━━━━━━━━━━\u001b[0m\u001b[37m\u001b[0m \u001b[1m0s\u001b[0m 2ms/step - loss: 37812.8125 - val_loss: 34033.7578\n",
            "Epoch 57/100\n",
            "\u001b[1m168/168\u001b[0m \u001b[32m━━━━━━━━━━━━━━━━━━━━\u001b[0m\u001b[37m\u001b[0m \u001b[1m1s\u001b[0m 2ms/step - loss: 32397.8828 - val_loss: 30538.9551\n",
            "Epoch 58/100\n",
            "\u001b[1m168/168\u001b[0m \u001b[32m━━━━━━━━━━━━━━━━━━━━\u001b[0m\u001b[37m\u001b[0m \u001b[1m1s\u001b[0m 3ms/step - loss: 30810.2949 - val_loss: 27586.6270\n",
            "Epoch 59/100\n",
            "\u001b[1m168/168\u001b[0m \u001b[32m━━━━━━━━━━━━━━━━━━━━\u001b[0m\u001b[37m\u001b[0m \u001b[1m0s\u001b[0m 3ms/step - loss: 28251.3281 - val_loss: 25185.9590\n",
            "Epoch 60/100\n",
            "\u001b[1m168/168\u001b[0m \u001b[32m━━━━━━━━━━━━━━━━━━━━\u001b[0m\u001b[37m\u001b[0m \u001b[1m0s\u001b[0m 3ms/step - loss: 27122.7500 - val_loss: 23295.7891\n",
            "Epoch 61/100\n",
            "\u001b[1m168/168\u001b[0m \u001b[32m━━━━━━━━━━━━━━━━━━━━\u001b[0m\u001b[37m\u001b[0m \u001b[1m1s\u001b[0m 3ms/step - loss: 23795.4844 - val_loss: 21471.0039\n",
            "Epoch 62/100\n",
            "\u001b[1m168/168\u001b[0m \u001b[32m━━━━━━━━━━━━━━━━━━━━\u001b[0m\u001b[37m\u001b[0m \u001b[1m1s\u001b[0m 3ms/step - loss: 25377.0547 - val_loss: 20056.1738\n",
            "Epoch 63/100\n",
            "\u001b[1m168/168\u001b[0m \u001b[32m━━━━━━━━━━━━━━━━━━━━\u001b[0m\u001b[37m\u001b[0m \u001b[1m1s\u001b[0m 4ms/step - loss: 21190.5742 - val_loss: 18840.0039\n",
            "Epoch 64/100\n",
            "\u001b[1m168/168\u001b[0m \u001b[32m━━━━━━━━━━━━━━━━━━━━\u001b[0m\u001b[37m\u001b[0m \u001b[1m1s\u001b[0m 4ms/step - loss: 19760.6992 - val_loss: 17610.7012\n",
            "Epoch 65/100\n",
            "\u001b[1m168/168\u001b[0m \u001b[32m━━━━━━━━━━━━━━━━━━━━\u001b[0m\u001b[37m\u001b[0m \u001b[1m1s\u001b[0m 4ms/step - loss: 18682.9336 - val_loss: 16918.0742\n",
            "Epoch 66/100\n",
            "\u001b[1m168/168\u001b[0m \u001b[32m━━━━━━━━━━━━━━━━━━━━\u001b[0m\u001b[37m\u001b[0m \u001b[1m1s\u001b[0m 4ms/step - loss: 16778.1348 - val_loss: 15931.9717\n",
            "Epoch 67/100\n",
            "\u001b[1m168/168\u001b[0m \u001b[32m━━━━━━━━━━━━━━━━━━━━\u001b[0m\u001b[37m\u001b[0m \u001b[1m1s\u001b[0m 3ms/step - loss: 16477.8379 - val_loss: 15416.2979\n",
            "Epoch 68/100\n",
            "\u001b[1m168/168\u001b[0m \u001b[32m━━━━━━━━━━━━━━━━━━━━\u001b[0m\u001b[37m\u001b[0m \u001b[1m1s\u001b[0m 2ms/step - loss: 13726.1973 - val_loss: 14734.4971\n",
            "Epoch 69/100\n",
            "\u001b[1m168/168\u001b[0m \u001b[32m━━━━━━━━━━━━━━━━━━━━\u001b[0m\u001b[37m\u001b[0m \u001b[1m1s\u001b[0m 3ms/step - loss: 15016.7705 - val_loss: 14249.6865\n",
            "Epoch 70/100\n",
            "\u001b[1m168/168\u001b[0m \u001b[32m━━━━━━━━━━━━━━━━━━━━\u001b[0m\u001b[37m\u001b[0m \u001b[1m0s\u001b[0m 2ms/step - loss: 13445.6289 - val_loss: 13703.9883\n",
            "Epoch 71/100\n",
            "\u001b[1m168/168\u001b[0m \u001b[32m━━━━━━━━━━━━━━━━━━━━\u001b[0m\u001b[37m\u001b[0m \u001b[1m1s\u001b[0m 3ms/step - loss: 14174.7568 - val_loss: 13126.6123\n",
            "Epoch 72/100\n",
            "\u001b[1m168/168\u001b[0m \u001b[32m━━━━━━━━━━━━━━━━━━━━\u001b[0m\u001b[37m\u001b[0m \u001b[1m0s\u001b[0m 3ms/step - loss: 13205.1602 - val_loss: 12782.3398\n",
            "Epoch 73/100\n",
            "\u001b[1m168/168\u001b[0m \u001b[32m━━━━━━━━━━━━━━━━━━━━\u001b[0m\u001b[37m\u001b[0m \u001b[1m1s\u001b[0m 3ms/step - loss: 10206.7832 - val_loss: 12446.1328\n",
            "Epoch 74/100\n",
            "\u001b[1m168/168\u001b[0m \u001b[32m━━━━━━━━━━━━━━━━━━━━\u001b[0m\u001b[37m\u001b[0m \u001b[1m1s\u001b[0m 2ms/step - loss: 11586.9141 - val_loss: 11947.7900\n",
            "Epoch 75/100\n",
            "\u001b[1m168/168\u001b[0m \u001b[32m━━━━━━━━━━━━━━━━━━━━\u001b[0m\u001b[37m\u001b[0m \u001b[1m0s\u001b[0m 3ms/step - loss: 10702.9893 - val_loss: 11387.9189\n",
            "Epoch 76/100\n",
            "\u001b[1m168/168\u001b[0m \u001b[32m━━━━━━━━━━━━━━━━━━━━\u001b[0m\u001b[37m\u001b[0m \u001b[1m1s\u001b[0m 2ms/step - loss: 11248.9268 - val_loss: 11117.5518\n",
            "Epoch 77/100\n",
            "\u001b[1m168/168\u001b[0m \u001b[32m━━━━━━━━━━━━━━━━━━━━\u001b[0m\u001b[37m\u001b[0m \u001b[1m1s\u001b[0m 3ms/step - loss: 11120.2480 - val_loss: 10656.2891\n",
            "Epoch 78/100\n",
            "\u001b[1m168/168\u001b[0m \u001b[32m━━━━━━━━━━━━━━━━━━━━\u001b[0m\u001b[37m\u001b[0m \u001b[1m1s\u001b[0m 3ms/step - loss: 10817.7295 - val_loss: 10348.8301\n",
            "Epoch 79/100\n",
            "\u001b[1m168/168\u001b[0m \u001b[32m━━━━━━━━━━━━━━━━━━━━\u001b[0m\u001b[37m\u001b[0m \u001b[1m1s\u001b[0m 2ms/step - loss: 9614.3633 - val_loss: 9840.2529\n",
            "Epoch 80/100\n",
            "\u001b[1m168/168\u001b[0m \u001b[32m━━━━━━━━━━━━━━━━━━━━\u001b[0m\u001b[37m\u001b[0m \u001b[1m1s\u001b[0m 3ms/step - loss: 9886.4551 - val_loss: 9517.8633\n",
            "Epoch 81/100\n",
            "\u001b[1m168/168\u001b[0m \u001b[32m━━━━━━━━━━━━━━━━━━━━\u001b[0m\u001b[37m\u001b[0m \u001b[1m1s\u001b[0m 2ms/step - loss: 9124.0186 - val_loss: 9059.9814\n",
            "Epoch 82/100\n",
            "\u001b[1m168/168\u001b[0m \u001b[32m━━━━━━━━━━━━━━━━━━━━\u001b[0m\u001b[37m\u001b[0m \u001b[1m1s\u001b[0m 3ms/step - loss: 10317.2988 - val_loss: 8695.0508\n",
            "Epoch 83/100\n",
            "\u001b[1m168/168\u001b[0m \u001b[32m━━━━━━━━━━━━━━━━━━━━\u001b[0m\u001b[37m\u001b[0m \u001b[1m1s\u001b[0m 3ms/step - loss: 9617.1484 - val_loss: 8615.1260\n",
            "Epoch 84/100\n",
            "\u001b[1m168/168\u001b[0m \u001b[32m━━━━━━━━━━━━━━━━━━━━\u001b[0m\u001b[37m\u001b[0m \u001b[1m1s\u001b[0m 4ms/step - loss: 9115.5801 - val_loss: 8051.4023\n",
            "Epoch 85/100\n",
            "\u001b[1m168/168\u001b[0m \u001b[32m━━━━━━━━━━━━━━━━━━━━\u001b[0m\u001b[37m\u001b[0m \u001b[1m1s\u001b[0m 4ms/step - loss: 8454.1289 - val_loss: 8315.3213\n",
            "Epoch 86/100\n",
            "\u001b[1m168/168\u001b[0m \u001b[32m━━━━━━━━━━━━━━━━━━━━\u001b[0m\u001b[37m\u001b[0m \u001b[1m1s\u001b[0m 4ms/step - loss: 6898.9917 - val_loss: 7547.1353\n",
            "Epoch 87/100\n",
            "\u001b[1m168/168\u001b[0m \u001b[32m━━━━━━━━━━━━━━━━━━━━\u001b[0m\u001b[37m\u001b[0m \u001b[1m1s\u001b[0m 2ms/step - loss: 8371.5742 - val_loss: 7240.4858\n",
            "Epoch 88/100\n",
            "\u001b[1m168/168\u001b[0m \u001b[32m━━━━━━━━━━━━━━━━━━━━\u001b[0m\u001b[37m\u001b[0m \u001b[1m1s\u001b[0m 3ms/step - loss: 9756.7871 - val_loss: 7080.2212\n",
            "Epoch 89/100\n",
            "\u001b[1m168/168\u001b[0m \u001b[32m━━━━━━━━━━━━━━━━━━━━\u001b[0m\u001b[37m\u001b[0m \u001b[1m0s\u001b[0m 2ms/step - loss: 6388.7876 - val_loss: 6632.2344\n",
            "Epoch 90/100\n",
            "\u001b[1m168/168\u001b[0m \u001b[32m━━━━━━━━━━━━━━━━━━━━\u001b[0m\u001b[37m\u001b[0m \u001b[1m0s\u001b[0m 2ms/step - loss: 5762.9214 - val_loss: 6396.9590\n",
            "Epoch 91/100\n",
            "\u001b[1m168/168\u001b[0m \u001b[32m━━━━━━━━━━━━━━━━━━━━\u001b[0m\u001b[37m\u001b[0m \u001b[1m0s\u001b[0m 2ms/step - loss: 6791.7109 - val_loss: 6069.9712\n",
            "Epoch 92/100\n",
            "\u001b[1m168/168\u001b[0m \u001b[32m━━━━━━━━━━━━━━━━━━━━\u001b[0m\u001b[37m\u001b[0m \u001b[1m1s\u001b[0m 3ms/step - loss: 6073.3110 - val_loss: 6110.0020\n",
            "Epoch 93/100\n",
            "\u001b[1m168/168\u001b[0m \u001b[32m━━━━━━━━━━━━━━━━━━━━\u001b[0m\u001b[37m\u001b[0m \u001b[1m0s\u001b[0m 3ms/step - loss: 6866.9204 - val_loss: 5569.2720\n",
            "Epoch 94/100\n",
            "\u001b[1m168/168\u001b[0m \u001b[32m━━━━━━━━━━━━━━━━━━━━\u001b[0m\u001b[37m\u001b[0m \u001b[1m0s\u001b[0m 2ms/step - loss: 4967.0156 - val_loss: 5329.0835\n",
            "Epoch 95/100\n",
            "\u001b[1m168/168\u001b[0m \u001b[32m━━━━━━━━━━━━━━━━━━━━\u001b[0m\u001b[37m\u001b[0m \u001b[1m0s\u001b[0m 2ms/step - loss: 6089.3535 - val_loss: 5072.3970\n",
            "Epoch 96/100\n",
            "\u001b[1m168/168\u001b[0m \u001b[32m━━━━━━━━━━━━━━━━━━━━\u001b[0m\u001b[37m\u001b[0m \u001b[1m0s\u001b[0m 3ms/step - loss: 4798.9292 - val_loss: 4920.3496\n",
            "Epoch 97/100\n",
            "\u001b[1m168/168\u001b[0m \u001b[32m━━━━━━━━━━━━━━━━━━━━\u001b[0m\u001b[37m\u001b[0m \u001b[1m1s\u001b[0m 2ms/step - loss: 4598.2168 - val_loss: 5034.8608\n",
            "Epoch 98/100\n",
            "\u001b[1m168/168\u001b[0m \u001b[32m━━━━━━━━━━━━━━━━━━━━\u001b[0m\u001b[37m\u001b[0m \u001b[1m1s\u001b[0m 3ms/step - loss: 5164.7432 - val_loss: 4651.1304\n",
            "Epoch 99/100\n",
            "\u001b[1m168/168\u001b[0m \u001b[32m━━━━━━━━━━━━━━━━━━━━\u001b[0m\u001b[37m\u001b[0m \u001b[1m1s\u001b[0m 3ms/step - loss: 5020.8525 - val_loss: 4581.6313\n",
            "Epoch 100/100\n",
            "\u001b[1m168/168\u001b[0m \u001b[32m━━━━━━━━━━━━━━━━━━━━\u001b[0m\u001b[37m\u001b[0m \u001b[1m0s\u001b[0m 2ms/step - loss: 4892.3623 - val_loss: 4140.9780\n",
            "\u001b[1m72/72\u001b[0m \u001b[32m━━━━━━━━━━━━━━━━━━━━\u001b[0m\u001b[37m\u001b[0m \u001b[1m0s\u001b[0m 3ms/step\n",
            "LSTM Iteration 1\n",
            "Mean squared error: 4140.97767269593, R-squared score: 0.9930593839267973, Mean absolute error: 31.70107572777057\n"
          ]
        }
      ],
      "source": [
        " # Run with the adjusted parameters\n",
        "for i in range(1):\n",
        "    history = lstm_model.fit(X_train_lstm, y_train, epochs = 100, batch_size = 32, validation_data=(X_test_lstm, y_test), verbose=1)\n",
        "    y_pred_lstm = lstm_model.predict(X_test_lstm)\n",
        "    mse_lstm = mean_squared_error(y_test, y_pred_lstm)\n",
        "    r2_lstm = r2_score(y_test, y_pred_lstm)\n",
        "    mae_lstm = mean_absolute_error(y_test, y_pred_lstm)\n",
        "    print(f'LSTM Iteration {i+1}\\nMean squared error: {mse_lstm}, R-squared score: {r2_lstm}, Mean absolute error: {mae_lstm}')"
      ]
    },
    {
      "cell_type": "code",
      "execution_count": null,
      "metadata": {
        "colab": {
          "background_save": true
        },
        "id": "3Lotcpbqp46A",
        "outputId": "c9164ac7-2ca0-4e52-c202-f8e1c9f558b6"
      },
      "outputs": [
        {
          "data": {
            "image/png": "[encoded data removed]",
            "text/plain": [
              "<Figure size 640x480 with 1 Axes>"
            ]
          },
          "metadata": {},
          "output_type": "display_data"
        }
      ],
      "source": [
        "# Plot training history for the last iteration\n",
        "plt.style.use('dark_background')\n",
        "plt.plot(history.history['loss'], label='train')\n",
        "plt.plot(history.history['val_loss'], label='validation')\n",
        "plt.title('LSTM Training and Validation Loss')\n",
        "plt.legend()\n",
        "plt.show()"
      ]
    },
    {
      "cell_type": "code",
      "execution_count": null,
      "metadata": {
        "colab": {
          "background_save": true
        },
        "id": "SDOkHEj0p46A",
        "outputId": "dcca28cd-0919-46de-bf0b-1b98d621eedc"
      },
      "outputs": [
        {
          "data": {
            "image/png": "[encoded data removed]",
            "text/plain": [
              "<Figure size 1000x500 with 1 Axes>"
            ]
          },
          "metadata": {},
          "output_type": "display_data"
        }
      ],
      "source": [
        "# Plot LSTM results\n",
        "plt.style.use('dark_background')\n",
        "plt.figure(figsize=(10, 5))\n",
        "plt.plot(y_test.values, label='Actual Prices')\n",
        "plt.plot(y_pred_lstm, label='Predicted Prices')\n",
        "plt.title('LSTM: Actual vs Predicted Prices')\n",
        "plt.legend()\n",
        "plt.show()"
      ]
    },
    {
      "cell_type": "code",
      "execution_count": null,
      "metadata": {
        "colab": {
          "background_save": true
        },
        "id": "mepIuaKAKBH6",
        "outputId": "053ccd06-8230-43df-cf68-7f2fb93e4f11"
      },
      "outputs": [
        {
          "name": "stdout",
          "output_type": "stream",
          "text": [
            "Model saved to /content/drive/MyDrive/cocoa_price_lstm_model.keras\n",
            "Scaler saved to /content/drive/MyDrive/cocoa_price_scaler.pkl\n"
          ]
        }
      ],
      "source": [
        "# Save the LSTM model\n",
        "model_path = '/content/drive/MyDrive/cocoa_price_lstm_model.keras'\n",
        "lstm_model.save(model_path)\n",
        "\n",
        "# Save the scaler separately using pickle\n",
        "scaler_path = '/content/drive/MyDrive/cocoa_price_scaler.pkl'\n",
        "with open(scaler_path, 'wb') as f:\n",
        "    pickle.dump(scaler, f)\n",
        "\n",
        "print(f\"Model saved to {model_path}\")\n",
        "print(f\"Scaler saved to {scaler_path}\")"
      ]
    }
  ],
  "metadata": {
    "accelerator": "GPU",
    "colab": {
      "gpuType": "T4",
      "provenance": []
    },
    "kernelspec": {
      "display_name": "Python 3",
      "name": "python3"
    },
    "language_info": {
      "name": "python"
    }
  },
  "nbformat": 4,
  "nbformat_minor": 0
}